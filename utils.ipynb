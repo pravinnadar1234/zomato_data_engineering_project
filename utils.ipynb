{
 "cells": [
  {
   "cell_type": "code",
   "execution_count": 0,
   "metadata": {
    "application/vnd.databricks.v1+cell": {
     "cellMetadata": {
      "byteLimit": 2048000,
      "rowLimit": 10000
     },
     "inputWidgets": {},
     "nuid": "2669585e-847e-48a0-82de-b33eb193f239",
     "showTitle": false,
     "title": ""
    }
   },
   "outputs": [],
   "source": [
    "from pyspark.sql.functions import *\n",
    "from pyspark.sql.window import Window\n",
    "from pyspark.sql.types import *\n",
    "import pyspark.sql.functions as f\n",
    "\n"
   ]
  },
  {
   "cell_type": "code",
   "execution_count": 0,
   "metadata": {
    "application/vnd.databricks.v1+cell": {
     "cellMetadata": {
      "byteLimit": 2048000,
      "rowLimit": 10000
     },
     "inputWidgets": {},
     "nuid": "44b56ac1-0df9-46be-b6cd-8728bd05cf51",
     "showTitle": false,
     "title": ""
    }
   },
   "outputs": [],
   "source": [
    "def flatten_check(main_df):\n",
    "    exist = True\n",
    "    while exist:\n",
    "        for col_name, col_type in main_df.dtypes:\n",
    "            # This will take care of non array types i.e (STRUCT STRING)\n",
    "            if col_type[:6] != 'array':\n",
    "                main_df = flatten_df(main_df)\n",
    "\n",
    "            # This will take care of non struct types i.e (ARRAY)\n",
    "            if col_type[:5] == 'array':\n",
    "                main_df = exploade_array(main_df, col_name)\n",
    "\n",
    "            struct_type = [c[0] for c in main_df.dtypes if c[1][:6] == 'struct']\n",
    "            array_type = [c[0] for c in main_df.dtypes if c[1][:5] == 'array']\n",
    "\n",
    "            if len(struct_type) > 0 or len(array_type) > 0:\n",
    "                exist = True\n",
    "            else:\n",
    "                exist = False\n",
    "\n",
    "    return main_df\n",
    "\n",
    "\n",
    "def flatten_df(nested_df):\n",
    "\n",
    "    flat_col = [c[0] for c in nested_df.dtypes if c[1][:6] != 'struct']\n",
    "    nested_col = [c[0] for c in nested_df.dtypes if c[1][:6] == 'struct']\n",
    "\n",
    "    if len(nested_col) >0:\n",
    "        flat_df = nested_df.select(flat_col + [col(c+'.'+nc).alias(c+'_'+nc) for c in nested_col for nc in nested_df.select(c+'.*').columns])\n",
    "    else:\n",
    "        flat_df = nested_df\n",
    "        \n",
    "    return flat_df\n",
    "            \n",
    "\n",
    "\n",
    "def exploade_array(main_df, new_col):\n",
    "\n",
    "    explode_col_name = main_df.select(new_col)\n",
    "\n",
    "    explode_df = main_df.withColumn(new_col, explode_outer(explode_col_name[0]))\n",
    "\n",
    "    return explode_df\n",
    "\n",
    "\n",
    "\n",
    "            \n"
   ]
  },
  {
   "cell_type": "code",
   "execution_count": 0,
   "metadata": {
    "application/vnd.databricks.v1+cell": {
     "cellMetadata": {
      "byteLimit": 2048000,
      "rowLimit": 10000
     },
     "inputWidgets": {},
     "nuid": "68ddc94f-990f-4fcb-8231-8ca97e1f1fa2",
     "showTitle": false,
     "title": ""
    }
   },
   "outputs": [],
   "source": [
    "def fetch_max_count(column, table_name):\n",
    "    try:\n",
    "        query = \"SELECT CASE WHEN MaxID = -1 THEN 0 ELSE MaxID END AS MaxID FROM  (SELECT nvl(MAX({0}),0) AS MaxID FROM {1})\".format(column, table_name)\n",
    "        max_count_df = spark.sql(query)\n",
    "        max_count_df.createOrReplaceTempView(\"MaxID\")\n",
    "        return max_count_df\n",
    "\n",
    "    except Exception as e:\n",
    "        error = f\"{e}\"\n",
    "        print(\"Error \"+ error)\n",
    "\n"
   ]
  },
  {
   "cell_type": "code",
   "execution_count": 0,
   "metadata": {
    "application/vnd.databricks.v1+cell": {
     "cellMetadata": {},
     "inputWidgets": {},
     "nuid": "f62dda46-3811-4622-88c5-570c8a93d6a1",
     "showTitle": false,
     "title": ""
    }
   },
   "outputs": [],
   "source": []
  }
 ],
 "metadata": {
  "application/vnd.databricks.v1+notebook": {
   "dashboards": [],
   "language": "python",
   "notebookMetadata": {
    "pythonIndentUnit": 4
   },
   "notebookName": "common_utils",
   "widgets": {}
  }
 },
 "nbformat": 4,
 "nbformat_minor": 0
}
