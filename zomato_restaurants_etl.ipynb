{
 "cells": [
  {
   "cell_type": "code",
   "execution_count": 0,
   "metadata": {
    "application/vnd.databricks.v1+cell": {
     "cellMetadata": {
      "byteLimit": 2048000,
      "rowLimit": 10000
     },
     "inputWidgets": {},
     "nuid": "123a89aa-8e5e-421d-a4e1-3b58059a219c",
     "showTitle": false,
     "title": ""
    }
   },
   "outputs": [],
   "source": [
    "surrogate_key_column = 'Restaurant_seq_ID'\n",
    "delata_table_name = 'zomato_db.zomato_restaurants_delta'"
   ]
  },
  {
   "cell_type": "markdown",
   "metadata": {
    "application/vnd.databricks.v1+cell": {
     "cellMetadata": {},
     "inputWidgets": {},
     "nuid": "b1a7b38b-53a4-44ad-b894-0a9376039635",
     "showTitle": false,
     "title": ""
    }
   },
   "source": [
    "Reading source file"
   ]
  },
  {
   "cell_type": "code",
   "execution_count": 0,
   "metadata": {
    "application/vnd.databricks.v1+cell": {
     "cellMetadata": {
      "byteLimit": 2048000,
      "rowLimit": 10000
     },
     "inputWidgets": {},
     "nuid": "e114de49-f90f-4b6a-87d1-415ed6298ffa",
     "showTitle": false,
     "title": ""
    }
   },
   "outputs": [],
   "source": [
    "zomato_df = spark.read.format(\"json\")\\\n",
    "                 .option(\"inferschema\",\"false\")\\\n",
    "                 .option(\"multiline\",\"true\")\\\n",
    "                 .load(\"dbfs:/FileStore/tables/zomato_JSON/*.json\")"
   ]
  },
  {
   "cell_type": "code",
   "execution_count": 0,
   "metadata": {
    "application/vnd.databricks.v1+cell": {
     "cellMetadata": {
      "byteLimit": 2048000,
      "rowLimit": 10000
     },
     "inputWidgets": {},
     "nuid": "3d7c85c7-72cc-46f4-a8e4-f604f0693390",
     "showTitle": false,
     "title": ""
    }
   },
   "outputs": [],
   "source": [
    "country_df = (\n",
    "    spark.read.format(\"csv\")\n",
    "         .option(\"inferschema\",\"true\")\n",
    "         .option(\"header\",\"true\")\n",
    "         .load(\"/FileStore/tables/zomato_JSON/Country_Code.csv\")\n",
    "         .withColumnRenamed(\"Country Code\", \"Country_code\")\n",
    ")"
   ]
  },
  {
   "cell_type": "markdown",
   "metadata": {
    "application/vnd.databricks.v1+cell": {
     "cellMetadata": {},
     "inputWidgets": {},
     "nuid": "db1b73b6-afc1-401b-b1bc-bf7b4c64eda4",
     "showTitle": false,
     "title": ""
    }
   },
   "source": [
    "flatten nested JSON"
   ]
  },
  {
   "cell_type": "code",
   "execution_count": 0,
   "metadata": {
    "application/vnd.databricks.v1+cell": {
     "cellMetadata": {
      "byteLimit": 2048000,
      "rowLimit": 10000
     },
     "inputWidgets": {},
     "nuid": "4aa1f549-8583-44a6-82d9-1684489f49b9",
     "showTitle": false,
     "title": ""
    }
   },
   "outputs": [],
   "source": [
    "zomato_df = flatten_check(zomato_df)"
   ]
  },
  {
   "cell_type": "markdown",
   "metadata": {
    "application/vnd.databricks.v1+cell": {
     "cellMetadata": {},
     "inputWidgets": {},
     "nuid": "6f4387d4-63a6-405e-800b-3c5da98de1f6",
     "showTitle": false,
     "title": ""
    }
   },
   "source": [
    "Transformation the DataFrame"
   ]
  },
  {
   "cell_type": "code",
   "execution_count": 0,
   "metadata": {
    "application/vnd.databricks.v1+cell": {
     "cellMetadata": {
      "byteLimit": 2048000,
      "rowLimit": 10000
     },
     "inputWidgets": {},
     "nuid": "9389d2ed-0f9f-4a07-8ab6-979a6e2eab96",
     "showTitle": false,
     "title": ""
    }
   },
   "outputs": [],
   "source": [
    "zomato_df_selected_raw = zomato_df.selectExpr(\n",
    "    \"CAST(restaurants_restaurant_id AS bigint) AS restaurant_ID\",\n",
    "    \"restaurants_restaurant_name AS restaurant_name\",\n",
    "    \"CAST(restaurants_restaurant_location_country_id AS INT) AS country_code\",\n",
    "    \"restaurants_restaurant_location_city AS city\",\n",
    "    \"restaurants_restaurant_location_address AS Address\",\n",
    "    \"restaurants_restaurant_location_locality AS locality\",\n",
    "    \"restaurants_restaurant_location_locality_verbose AS locality_verbose\",\n",
    "    \"CAST(restaurants_restaurant_location_latitude AS decimal(20,6)) AS restaurant_latitude\",\n",
    "    \"CAST(restaurants_restaurant_location_longitude AS decimal(20,6)) AS restaurant_longitude\",\n",
    "    \"restaurants_restaurant_cuisines AS cuisines\",\n",
    "    \"CAST(restaurants_restaurant_average_cost_for_two  AS INT) AS average_cost_for_two\",\n",
    "    \"restaurants_restaurant_currency AS currency\",\n",
    "    \"CAST(restaurants_restaurant_has_table_booking AS INT) AS has_table_booking\",\n",
    "    \"CAST(restaurants_restaurant_has_online_delivery AS INT) AS has_online_delivery\",\n",
    "    \"CAST(restaurants_restaurant_is_delivering_now  AS INT) AS is_delivering_now\",\n",
    "    \"CAST(restaurants_restaurant_switch_to_order_menu AS INT) AS switch_to_order_menu\",\n",
    "    \"CAST(restaurants_restaurant_price_range AS int) AS price_range\",\n",
    "    \"CAST(restaurants_restaurant_user_rating_aggregate_rating AS decimal(2,1)) AS aggregate_rating\",\n",
    "    \"restaurants_restaurant_user_rating_rating_color AS rating_color\",\n",
    "    \"restaurants_restaurant_user_rating_rating_text AS rating_text\",\n",
    "    \"CAST(restaurants_restaurant_user_rating_votes AS bigint) AS rating_votes\"\n",
    ")"
   ]
  },
  {
   "cell_type": "markdown",
   "metadata": {
    "application/vnd.databricks.v1+cell": {
     "cellMetadata": {},
     "inputWidgets": {},
     "nuid": "adb0481c-b828-4a9a-bc40-7b55fd5dd428",
     "showTitle": false,
     "title": ""
    }
   },
   "source": [
    "Filter records where restaurant ID is NULL"
   ]
  },
  {
   "cell_type": "code",
   "execution_count": 0,
   "metadata": {
    "application/vnd.databricks.v1+cell": {
     "cellMetadata": {
      "byteLimit": 2048000,
      "rowLimit": 10000
     },
     "inputWidgets": {},
     "nuid": "d252c082-03e9-4de0-8f9a-a5c2e96ba6cd",
     "showTitle": false,
     "title": ""
    }
   },
   "outputs": [],
   "source": [
    "zomato_df_selected_filter = zomato_df_selected_raw.filter((col(\"restaurant_ID\").isNotNull()))"
   ]
  },
  {
   "cell_type": "markdown",
   "metadata": {
    "application/vnd.databricks.v1+cell": {
     "cellMetadata": {},
     "inputWidgets": {},
     "nuid": "072c7e0a-8ee9-4f14-9acf-3c739d08aea7",
     "showTitle": false,
     "title": ""
    }
   },
   "source": [
    "Filter records if we have duplicicate  restaurant ID "
   ]
  },
  {
   "cell_type": "code",
   "execution_count": 0,
   "metadata": {
    "application/vnd.databricks.v1+cell": {
     "cellMetadata": {
      "byteLimit": 2048000,
      "rowLimit": 10000
     },
     "inputWidgets": {},
     "nuid": "22b8ae66-de99-41e1-b9dc-b6f752fe45c6",
     "showTitle": false,
     "title": ""
    }
   },
   "outputs": [],
   "source": [
    "zomato_df_selected_rowNumber = (\n",
    "    zomato_df_selected_filter.withColumn(\"row_number\", row_number().over(Window.partitionBy(col(\"restaurant_ID\")).orderBy(col (\"country_code\")))).filter(col(\"row_number\") == 1).drop(col(\"row_number\"))\n",
    ")"
   ]
  },
  {
   "cell_type": "code",
   "execution_count": 0,
   "metadata": {
    "application/vnd.databricks.v1+cell": {
     "cellMetadata": {
      "byteLimit": 2048000,
      "rowLimit": 10000
     },
     "inputWidgets": {},
     "nuid": "ce43cf80-f3ab-4198-ae92-6e41f95cb253",
     "showTitle": false,
     "title": ""
    }
   },
   "outputs": [],
   "source": [
    "zomato_df_selected = (\n",
    "    zomato_df_selected_rowNumber.withColumn(\"has_table_booking\", when((col(\"has_table_booking\") == 1), 'Y')\n",
    "                                                       .when((col(\"has_table_booking\") == 0), 'N')\n",
    "                                                       .otherwise('null'))\n",
    "                      .withColumn(\"has_online_delivery\", when((col(\"has_online_delivery\") == 1), 'Y')\n",
    "                                                       .when((col(\"has_online_delivery\") == 0), 'N')\n",
    "                                                       .otherwise('null'))\n",
    "                      .withColumn(\"is_delivering_now\", when((col(\"is_delivering_now\") == 1), 'Y')\n",
    "                                                       .when((col(\"is_delivering_now\") == 0), 'N')\n",
    "                                                       .otherwise('null'))\n",
    "                      .withColumn(\"switch_to_order_menu\", when((col(\"switch_to_order_menu\") == 1), 'Y')\n",
    "                                                       .when((col(\"switch_to_order_menu\") == 0), 'N')\n",
    "                                                       .otherwise('null'))\n",
    ")"
   ]
  },
  {
   "cell_type": "code",
   "execution_count": 0,
   "metadata": {
    "application/vnd.databricks.v1+cell": {
     "cellMetadata": {
      "byteLimit": 2048000,
      "rowLimit": 10000
     },
     "inputWidgets": {},
     "nuid": "c1ff68e3-9b9b-48c4-9cb6-2beed3e4ecda",
     "showTitle": false,
     "title": ""
    }
   },
   "outputs": [],
   "source": [
    "zomato_df_selected_final = (\n",
    "    zomato_df_selected.join(broadcast(country_df), zomato_df_selected[\"country_code\"] == country_df[\"Country_code\"], \"left\")\n",
    "    .select(zomato_df_selected[\"*\"],country_df[\"Country\"])\n",
    "\n",
    ")"
   ]
  },
  {
   "cell_type": "code",
   "execution_count": 0,
   "metadata": {
    "application/vnd.databricks.v1+cell": {
     "cellMetadata": {
      "byteLimit": 2048000,
      "rowLimit": 10000
     },
     "inputWidgets": {},
     "nuid": "849421bc-a0c4-475e-84d9-7278360a760b",
     "showTitle": false,
     "title": ""
    }
   },
   "outputs": [],
   "source": [
    "zomato_df_selected_final = (\n",
    "    zomato_df_selected_final.withColumn(\"Country\", when((col(\"country_code\").isNotNull() & col(\"Country\").isNull()),\"Dummy\")\n",
    "                            .otherwise(col(\"Country\")))\n",
    ")"
   ]
  },
  {
   "cell_type": "code",
   "execution_count": 0,
   "metadata": {
    "application/vnd.databricks.v1+cell": {
     "cellMetadata": {
      "byteLimit": 2048000,
      "rowLimit": 10000
     },
     "inputWidgets": {},
     "nuid": "5126c9ec-d50e-4b73-9eb5-01445e428250",
     "showTitle": false,
     "title": ""
    }
   },
   "outputs": [],
   "source": [
    "# zomato_df_selected_final.rdd.getNumPartitions()"
   ]
  },
  {
   "cell_type": "markdown",
   "metadata": {
    "application/vnd.databricks.v1+cell": {
     "cellMetadata": {},
     "inputWidgets": {},
     "nuid": "52331979-103c-45f8-bf83-8279679ae214",
     "showTitle": false,
     "title": ""
    }
   },
   "source": [
    "Caching dataFrame"
   ]
  },
  {
   "cell_type": "code",
   "execution_count": 0,
   "metadata": {
    "application/vnd.databricks.v1+cell": {
     "cellMetadata": {
      "byteLimit": 2048000,
      "rowLimit": 10000
     },
     "inputWidgets": {},
     "nuid": "b85949ec-9923-4c5a-be47-82764a175ee6",
     "showTitle": false,
     "title": ""
    }
   },
   "outputs": [
    {
     "output_type": "stream",
     "name": "stdout",
     "output_type": "stream",
     "text": [
      "Out[127]: DataFrame[restaurant_ID: bigint, restaurant_name: string, country_code: int, city: string, Address: string, locality: string, locality_verbose: string, restaurant_latitude: decimal(20,6), restaurant_longitude: decimal(20,6), cuisines: string, average_cost_for_two: int, currency: string, has_table_booking: string, has_online_delivery: string, is_delivering_now: string, switch_to_order_menu: string, price_range: int, aggregate_rating: decimal(2,1), rating_color: string, rating_text: string, rating_votes: bigint, Country: string]"
     ]
    }
   ],
   "source": [
    "zomato_df_selected_final.cache()"
   ]
  },
  {
   "cell_type": "code",
   "execution_count": 0,
   "metadata": {
    "application/vnd.databricks.v1+cell": {
     "cellMetadata": {
      "byteLimit": 2048000,
      "rowLimit": 10000
     },
     "inputWidgets": {},
     "nuid": "2e85f10a-5510-4741-882f-e953a45113cd",
     "showTitle": false,
     "title": ""
    }
   },
   "outputs": [],
   "source": [
    "zomato_df_selected_final.createOrReplaceTempView(\"zomato_df\")"
   ]
  },
  {
   "cell_type": "code",
   "execution_count": 0,
   "metadata": {
    "application/vnd.databricks.v1+cell": {
     "cellMetadata": {
      "byteLimit": 2048000,
      "rowLimit": 10000
     },
     "inputWidgets": {},
     "nuid": "bb8575e0-fb09-4d1d-8f14-6ef4be732030",
     "showTitle": false,
     "title": ""
    }
   },
   "outputs": [
    {
     "output_type": "stream",
     "name": "stdout",
     "output_type": "stream",
     "text": [
      "Out[129]: 9157"
     ]
    }
   ],
   "source": [
    "zomato_df_selected_final.count()"
   ]
  },
  {
   "cell_type": "code",
   "execution_count": 0,
   "metadata": {
    "application/vnd.databricks.v1+cell": {
     "cellMetadata": {
      "byteLimit": 2048000,
      "implicitDf": true,
      "rowLimit": 10000
     },
     "inputWidgets": {},
     "nuid": "1efd07b3-4844-4735-a4ef-e5ed868d63e4",
     "showTitle": false,
     "title": ""
    }
   },
   "outputs": [
    {
     "output_type": "display_data",
     "data": {
      "text/html": [
       "<style scoped>\n",
       "  .table-result-container {\n",
       "    max-height: 300px;\n",
       "    overflow: auto;\n",
       "  }\n",
       "  table, th, td {\n",
       "    border: 1px solid black;\n",
       "    border-collapse: collapse;\n",
       "  }\n",
       "  th, td {\n",
       "    padding: 5px;\n",
       "  }\n",
       "  th {\n",
       "    text-align: left;\n",
       "  }\n",
       "</style><div class='table-result-container'><table class='table-result'><thead style='background-color: white'><tr></tr></thead><tbody></tbody></table></div>"
      ]
     },
     "metadata": {
      "application/vnd.databricks.v1+output": {
       "addedWidgets": {},
       "aggData": [],
       "aggError": "",
       "aggOverflow": false,
       "aggSchema": [],
       "aggSeriesLimitReached": false,
       "aggType": "",
       "arguments": {},
       "columnCustomDisplayInfos": {},
       "data": [],
       "datasetInfos": [],
       "dbfsResultPath": null,
       "isJsonSchema": true,
       "metadata": {},
       "overflow": false,
       "plotOptions": {
        "customPlotOptions": {},
        "displayType": "table",
        "pivotAggregation": null,
        "pivotColumns": null,
        "xColumns": null,
        "yColumns": null
       },
       "removedWidgets": [],
       "schema": [],
       "type": "table"
      }
     },
     "output_type": "display_data"
    }
   ],
   "source": [
    "%sql\n",
    "create table if not exists zomato_db.zomato_restaurants_delta(\n",
    "  Restaurant_seq_ID bigint NOT NULL,\n",
    "  restaurant_ID bigint NOT NULL,\n",
    "  restaurant_name string,\n",
    "  country_code string,\n",
    "  Country string,\n",
    "  city string,\n",
    "  Address string,\n",
    "  locality string,\n",
    "  locality_verbose string,\n",
    "  restaurant_latitude string,\n",
    "  restaurant_longitude string,\n",
    "  cuisines string,\n",
    "  average_cost_for_two string,\n",
    "  currency string,\n",
    "  has_table_booking string,\n",
    "  has_online_delivery string,\n",
    "  is_delivering_now string,\n",
    "  switch_to_order_menu string,\n",
    "  price_range string,\n",
    "  aggregate_rating string,\n",
    "  rating_color string,\n",
    "  rating_text string,\n",
    "  rating_votes string\n",
    ") using parquet"
   ]
  },
  {
   "cell_type": "code",
   "execution_count": 0,
   "metadata": {
    "application/vnd.databricks.v1+cell": {
     "cellMetadata": {
      "byteLimit": 2048000,
      "rowLimit": 10000
     },
     "inputWidgets": {},
     "nuid": "0dd0b1a0-028d-4513-bfeb-53057daa0a18",
     "showTitle": false,
     "title": ""
    }
   },
   "outputs": [],
   "source": [
    "# Fetching maximum records of the table\n",
    "max_df = fetch_max_count(surrogate_key_column, delata_table_name)"
   ]
  },
  {
   "cell_type": "code",
   "execution_count": 0,
   "metadata": {
    "application/vnd.databricks.v1+cell": {
     "cellMetadata": {
      "byteLimit": 2048000,
      "rowLimit": 10000
     },
     "inputWidgets": {},
     "nuid": "8bf7ded9-cae3-4ed5-b7ce-4ccbed1f9179",
     "showTitle": false,
     "title": ""
    }
   },
   "outputs": [],
   "source": [
    "# MaxID = max_df.collect()[0][0]"
   ]
  },
  {
   "cell_type": "markdown",
   "metadata": {
    "application/vnd.databricks.v1+cell": {
     "cellMetadata": {},
     "inputWidgets": {},
     "nuid": "df234d92-9e42-4694-983c-fd1bead0ecc9",
     "showTitle": false,
     "title": ""
    }
   },
   "source": [
    "Insert new records and adding surrogate key"
   ]
  },
  {
   "cell_type": "code",
   "execution_count": 0,
   "metadata": {
    "application/vnd.databricks.v1+cell": {
     "cellMetadata": {
      "byteLimit": 2048000,
      "implicitDf": true,
      "rowLimit": 10000
     },
     "inputWidgets": {},
     "nuid": "61a9be85-575c-4677-a99d-bdacee7aa7e1",
     "showTitle": false,
     "title": ""
    }
   },
   "outputs": [
    {
     "output_type": "display_data",
     "data": {
      "text/html": [
       "<style scoped>\n",
       "  .table-result-container {\n",
       "    max-height: 300px;\n",
       "    overflow: auto;\n",
       "  }\n",
       "  table, th, td {\n",
       "    border: 1px solid black;\n",
       "    border-collapse: collapse;\n",
       "  }\n",
       "  th, td {\n",
       "    padding: 5px;\n",
       "  }\n",
       "  th {\n",
       "    text-align: left;\n",
       "  }\n",
       "</style><div class='table-result-container'><table class='table-result'><thead style='background-color: white'><tr></tr></thead><tbody></tbody></table></div>"
      ]
     },
     "metadata": {
      "application/vnd.databricks.v1+output": {
       "addedWidgets": {},
       "aggData": [],
       "aggError": "",
       "aggOverflow": false,
       "aggSchema": [],
       "aggSeriesLimitReached": false,
       "aggType": "",
       "arguments": {},
       "columnCustomDisplayInfos": {},
       "data": [],
       "datasetInfos": [],
       "dbfsResultPath": null,
       "isJsonSchema": true,
       "metadata": {},
       "overflow": false,
       "plotOptions": {
        "customPlotOptions": {},
        "displayType": "table",
        "pivotAggregation": null,
        "pivotColumns": null,
        "xColumns": null,
        "yColumns": null
       },
       "removedWidgets": [],
       "schema": [],
       "type": "table"
      }
     },
     "output_type": "display_data"
    }
   ],
   "source": [
    "%sql\n",
    "INSERT INTO zomato_db.zomato_restaurants_delta\n",
    "SELECT\n",
    "    row_number() OVER(ORDER BY source.restaurant_ID) + MaxID AS Restaurant_seq_ID,\n",
    "    source.restaurant_ID AS restaurant_ID,\n",
    "    source.restaurant_name AS restaurant_name,\n",
    "    source.country_code AS country_code,\n",
    "    source.Country AS Country,\n",
    "    source.city AS city,\n",
    "    source.Address AS Address,\n",
    "    source.locality AS locality,\n",
    "    source.locality_verbose AS locality_verbose,\n",
    "    source.restaurant_latitude AS restaurant_latitude,\n",
    "    source.restaurant_longitude AS restaurant_longitude,\n",
    "    source.cuisines AS cuisines,\n",
    "    source.average_cost_for_two AS average_cost_for_two,\n",
    "    source.currency AS currency,\n",
    "    source.has_table_booking AS has_table_booking,\n",
    "    source.has_online_delivery AS has_online_delivery,\n",
    "    source.is_delivering_now AS is_delivering_now,\n",
    "    source.switch_to_order_menu AS switch_to_order_menu,\n",
    "    source.price_range AS price_range,\n",
    "    source.aggregate_rating AS aggregate_rating,\n",
    "    source.rating_color AS rating_color,\n",
    "    source.rating_text AS rating_text,\n",
    "    source.rating_votes AS rating_votes\n",
    "FROM zomato_df source\n",
    "LEFT JOIN zomato_db.zomato_restaurants_delta target ON source.restaurant_ID = target.restaurant_ID\n",
    "CROSS JOIN MaxID\n",
    "WHERE target.restaurant_ID IS NULL"
   ]
  },
  {
   "cell_type": "code",
   "execution_count": 0,
   "metadata": {
    "application/vnd.databricks.v1+cell": {
     "cellMetadata": {
      "byteLimit": 2048000,
      "rowLimit": 10000
     },
     "inputWidgets": {},
     "nuid": "1ed7818d-5c70-4605-bb90-ce5bf3927a02",
     "showTitle": false,
     "title": ""
    }
   },
   "outputs": [
    {
     "output_type": "stream",
     "name": "stdout",
     "output_type": "stream",
     "text": [
      "Out[134]: DataFrame[restaurant_ID: bigint, restaurant_name: string, country_code: int, city: string, Address: string, locality: string, locality_verbose: string, restaurant_latitude: decimal(20,6), restaurant_longitude: decimal(20,6), cuisines: string, average_cost_for_two: int, currency: string, has_table_booking: string, has_online_delivery: string, is_delivering_now: string, switch_to_order_menu: string, price_range: int, aggregate_rating: decimal(2,1), rating_color: string, rating_text: string, rating_votes: bigint, Country: string]"
     ]
    }
   ],
   "source": [
    "zomato_df_selected_final.unpersist()"
   ]
  },
  {
   "cell_type": "code",
   "execution_count": 0,
   "metadata": {
    "application/vnd.databricks.v1+cell": {
     "cellMetadata": {
      "byteLimit": 2048000,
      "rowLimit": 10000
     },
     "inputWidgets": {},
     "nuid": "20c63993-6ee6-4270-80dc-cfa3c5e73a87",
     "showTitle": false,
     "title": ""
    }
   },
   "outputs": [],
   "source": [
    "df_zomato_restaurants_delta = spark.sql(\"\"\" SELECT * FROM zomato_db.zomato_restaurants_delta\"\"\")"
   ]
  },
  {
   "cell_type": "markdown",
   "metadata": {
    "application/vnd.databricks.v1+cell": {
     "cellMetadata": {
      "byteLimit": 2048000,
      "rowLimit": 10000
     },
     "inputWidgets": {},
     "nuid": "1ceae7a8-7f94-4ba7-a4f7-cc385eba28e0",
     "showTitle": false,
     "title": ""
    }
   },
   "source": [
    "1. What are the Top10 Indian Cities with Maximum Restaurants?"
   ]
  },
  {
   "cell_type": "code",
   "execution_count": 0,
   "metadata": {
    "application/vnd.databricks.v1+cell": {
     "cellMetadata": {
      "byteLimit": 2048000,
      "rowLimit": 10000
     },
     "inputWidgets": {},
     "nuid": "528b0942-16f4-411f-9a5c-3fb9e92bf203",
     "showTitle": false,
     "title": ""
    }
   },
   "outputs": [],
   "source": [
    "data_df = (\n",
    "  df_zomato_restaurants_delta.filter(col(\"Country\") == \"India\")\n",
    "                          .groupBy(\"city\")\n",
    "                          .agg(countDistinct(\"restaurant_ID\").alias(\"number_of_cities\"))\n",
    ")\n",
    "\n",
    "data_df_final = (\n",
    "  data_df.withColumn(\"Rank\", dense_rank().over(Window.orderBy(col(\"number_of_cities\").desc())))\n",
    "         .filter((col(\"Rank\") <= 10))\n",
    ")"
   ]
  },
  {
   "cell_type": "code",
   "execution_count": 0,
   "metadata": {
    "application/vnd.databricks.v1+cell": {
     "cellMetadata": {
      "byteLimit": 2048000,
      "rowLimit": 10000
     },
     "inputWidgets": {},
     "nuid": "190f4e8b-936a-4dbf-b969-8410b9404544",
     "showTitle": false,
     "title": ""
    }
   },
   "outputs": [
    {
     "output_type": "display_data",
     "data": {
      "text/html": [
       "<style scoped>\n",
       "  .table-result-container {\n",
       "    max-height: 300px;\n",
       "    overflow: auto;\n",
       "  }\n",
       "  table, th, td {\n",
       "    border: 1px solid black;\n",
       "    border-collapse: collapse;\n",
       "  }\n",
       "  th, td {\n",
       "    padding: 5px;\n",
       "  }\n",
       "  th {\n",
       "    text-align: left;\n",
       "  }\n",
       "</style><div class='table-result-container'><table class='table-result'><thead style='background-color: white'><tr><th>city</th><th>number_of_cities</th><th>Rank</th></tr></thead><tbody><tr><td>New Delhi</td><td>5473</td><td>1</td></tr><tr><td>Gurgaon</td><td>1118</td><td>2</td></tr><tr><td>Noida</td><td>1080</td><td>3</td></tr><tr><td>Faridabad</td><td>251</td><td>4</td></tr><tr><td>Ghaziabad</td><td>25</td><td>5</td></tr><tr><td>Lucknow</td><td>21</td><td>6</td></tr><tr><td>Ahmedabad</td><td>21</td><td>6</td></tr><tr><td>Amritsar</td><td>21</td><td>6</td></tr><tr><td>Bhubaneshwar</td><td>21</td><td>6</td></tr><tr><td>Guwahati</td><td>21</td><td>6</td></tr><tr><td>Bangalore</td><td>20</td><td>7</td></tr><tr><td>Kochi</td><td>20</td><td>7</td></tr><tr><td>Aurangabad</td><td>20</td><td>7</td></tr><tr><td>Mysore</td><td>20</td><td>7</td></tr><tr><td>Patna</td><td>20</td><td>7</td></tr><tr><td>Vadodara</td><td>20</td><td>7</td></tr><tr><td>Chennai</td><td>20</td><td>7</td></tr><tr><td>Vizag</td><td>20</td><td>7</td></tr><tr><td>Varanasi</td><td>20</td><td>7</td></tr><tr><td>Ranchi</td><td>20</td><td>7</td></tr><tr><td>Mangalore</td><td>20</td><td>7</td></tr><tr><td>Mumbai</td><td>20</td><td>7</td></tr><tr><td>Goa</td><td>20</td><td>7</td></tr><tr><td>Kolkata</td><td>20</td><td>7</td></tr><tr><td>Allahabad</td><td>20</td><td>7</td></tr><tr><td>Ludhiana</td><td>20</td><td>7</td></tr><tr><td>Puducherry</td><td>20</td><td>7</td></tr><tr><td>Dehradun</td><td>20</td><td>7</td></tr><tr><td>Surat</td><td>20</td><td>7</td></tr><tr><td>Agra</td><td>20</td><td>7</td></tr><tr><td>Pune</td><td>20</td><td>7</td></tr><tr><td>Nagpur</td><td>20</td><td>7</td></tr><tr><td>Coimbatore</td><td>20</td><td>7</td></tr><tr><td>Bhopal</td><td>20</td><td>7</td></tr><tr><td>Kanpur</td><td>20</td><td>7</td></tr><tr><td>Nashik</td><td>20</td><td>7</td></tr><tr><td>Indore</td><td>20</td><td>7</td></tr><tr><td>Jaipur</td><td>20</td><td>7</td></tr><tr><td>Chandigarh</td><td>18</td><td>8</td></tr><tr><td>Hyderabad</td><td>18</td><td>8</td></tr><tr><td>Secunderabad</td><td>2</td><td>9</td></tr><tr><td>Panchkula</td><td>1</td><td>10</td></tr><tr><td>Mohali</td><td>1</td><td>10</td></tr></tbody></table></div>"
      ]
     },
     "metadata": {
      "application/vnd.databricks.v1+output": {
       "addedWidgets": {},
       "aggData": [],
       "aggError": "",
       "aggOverflow": false,
       "aggSchema": [],
       "aggSeriesLimitReached": false,
       "aggType": "",
       "arguments": {},
       "columnCustomDisplayInfos": {},
       "data": [
        [
         "New Delhi",
         5473,
         1
        ],
        [
         "Gurgaon",
         1118,
         2
        ],
        [
         "Noida",
         1080,
         3
        ],
        [
         "Faridabad",
         251,
         4
        ],
        [
         "Ghaziabad",
         25,
         5
        ],
        [
         "Lucknow",
         21,
         6
        ],
        [
         "Ahmedabad",
         21,
         6
        ],
        [
         "Amritsar",
         21,
         6
        ],
        [
         "Bhubaneshwar",
         21,
         6
        ],
        [
         "Guwahati",
         21,
         6
        ],
        [
         "Bangalore",
         20,
         7
        ],
        [
         "Kochi",
         20,
         7
        ],
        [
         "Aurangabad",
         20,
         7
        ],
        [
         "Mysore",
         20,
         7
        ],
        [
         "Patna",
         20,
         7
        ],
        [
         "Vadodara",
         20,
         7
        ],
        [
         "Chennai",
         20,
         7
        ],
        [
         "Vizag",
         20,
         7
        ],
        [
         "Varanasi",
         20,
         7
        ],
        [
         "Ranchi",
         20,
         7
        ],
        [
         "Mangalore",
         20,
         7
        ],
        [
         "Mumbai",
         20,
         7
        ],
        [
         "Goa",
         20,
         7
        ],
        [
         "Kolkata",
         20,
         7
        ],
        [
         "Allahabad",
         20,
         7
        ],
        [
         "Ludhiana",
         20,
         7
        ],
        [
         "Puducherry",
         20,
         7
        ],
        [
         "Dehradun",
         20,
         7
        ],
        [
         "Surat",
         20,
         7
        ],
        [
         "Agra",
         20,
         7
        ],
        [
         "Pune",
         20,
         7
        ],
        [
         "Nagpur",
         20,
         7
        ],
        [
         "Coimbatore",
         20,
         7
        ],
        [
         "Bhopal",
         20,
         7
        ],
        [
         "Kanpur",
         20,
         7
        ],
        [
         "Nashik",
         20,
         7
        ],
        [
         "Indore",
         20,
         7
        ],
        [
         "Jaipur",
         20,
         7
        ],
        [
         "Chandigarh",
         18,
         8
        ],
        [
         "Hyderabad",
         18,
         8
        ],
        [
         "Secunderabad",
         2,
         9
        ],
        [
         "Panchkula",
         1,
         10
        ],
        [
         "Mohali",
         1,
         10
        ]
       ],
       "datasetInfos": [],
       "dbfsResultPath": null,
       "isJsonSchema": true,
       "metadata": {},
       "overflow": false,
       "plotOptions": {
        "customPlotOptions": {},
        "displayType": "table",
        "pivotAggregation": null,
        "pivotColumns": null,
        "xColumns": null,
        "yColumns": null
       },
       "removedWidgets": [],
       "schema": [
        {
         "metadata": "{}",
         "name": "city",
         "type": "\"string\""
        },
        {
         "metadata": "{}",
         "name": "number_of_cities",
         "type": "\"long\""
        },
        {
         "metadata": "{}",
         "name": "Rank",
         "type": "\"integer\""
        }
       ],
       "type": "table"
      }
     },
     "output_type": "display_data"
    }
   ],
   "source": [
    "display(data_df_final)"
   ]
  },
  {
   "cell_type": "markdown",
   "metadata": {
    "application/vnd.databricks.v1+cell": {
     "cellMetadata": {
      "byteLimit": 2048000,
      "rowLimit": 10000
     },
     "inputWidgets": {},
     "nuid": "ba6ee2a3-97cb-425f-9c5a-df4ef6613ed3",
     "showTitle": false,
     "title": ""
    }
   },
   "source": [
    "2. What are the some Cities around the globe with Maximum Restaurants?"
   ]
  },
  {
   "cell_type": "code",
   "execution_count": 0,
   "metadata": {
    "application/vnd.databricks.v1+cell": {
     "cellMetadata": {
      "byteLimit": 2048000,
      "rowLimit": 10000
     },
     "inputWidgets": {},
     "nuid": "beb26fc7-c6db-4250-a9a3-df23424b867b",
     "showTitle": false,
     "title": ""
    }
   },
   "outputs": [],
   "source": [
    "data_df_2 = (\n",
    "  df_zomato_restaurants_delta.groupBy(\"city\")\n",
    "                          .agg(countDistinct(\"restaurant_ID\").alias(\"number_of_cities\"))\n",
    ")\n",
    "\n",
    "data_df_final_2 = (\n",
    "  data_df_2.withColumn(\"Rank\", dense_rank().over(Window.orderBy(col(\"number_of_cities\").desc())))\n",
    "         .filter((col(\"Rank\") <= 5))\n",
    ")"
   ]
  },
  {
   "cell_type": "code",
   "execution_count": 0,
   "metadata": {
    "application/vnd.databricks.v1+cell": {
     "cellMetadata": {
      "byteLimit": 2048000,
      "rowLimit": 10000
     },
     "inputWidgets": {},
     "nuid": "33bd31df-ca3a-4345-be6f-a00edfe27342",
     "showTitle": false,
     "title": ""
    }
   },
   "outputs": [
    {
     "output_type": "display_data",
     "data": {
      "text/html": [
       "<style scoped>\n",
       "  .table-result-container {\n",
       "    max-height: 300px;\n",
       "    overflow: auto;\n",
       "  }\n",
       "  table, th, td {\n",
       "    border: 1px solid black;\n",
       "    border-collapse: collapse;\n",
       "  }\n",
       "  th, td {\n",
       "    padding: 5px;\n",
       "  }\n",
       "  th {\n",
       "    text-align: left;\n",
       "  }\n",
       "</style><div class='table-result-container'><table class='table-result'><thead style='background-color: white'><tr><th>city</th><th>number_of_cities</th><th>Rank</th></tr></thead><tbody><tr><td>New Delhi</td><td>5473</td><td>1</td></tr><tr><td>Gurgaon</td><td>1118</td><td>2</td></tr><tr><td>Noida</td><td>1080</td><td>3</td></tr><tr><td>Faridabad</td><td>251</td><td>4</td></tr><tr><td>Ghaziabad</td><td>25</td><td>5</td></tr></tbody></table></div>"
      ]
     },
     "metadata": {
      "application/vnd.databricks.v1+output": {
       "addedWidgets": {},
       "aggData": [],
       "aggError": "",
       "aggOverflow": false,
       "aggSchema": [],
       "aggSeriesLimitReached": false,
       "aggType": "",
       "arguments": {},
       "columnCustomDisplayInfos": {},
       "data": [
        [
         "New Delhi",
         5473,
         1
        ],
        [
         "Gurgaon",
         1118,
         2
        ],
        [
         "Noida",
         1080,
         3
        ],
        [
         "Faridabad",
         251,
         4
        ],
        [
         "Ghaziabad",
         25,
         5
        ]
       ],
       "datasetInfos": [],
       "dbfsResultPath": null,
       "isJsonSchema": true,
       "metadata": {},
       "overflow": false,
       "plotOptions": {
        "customPlotOptions": {},
        "displayType": "table",
        "pivotAggregation": null,
        "pivotColumns": null,
        "xColumns": null,
        "yColumns": null
       },
       "removedWidgets": [],
       "schema": [
        {
         "metadata": "{}",
         "name": "city",
         "type": "\"string\""
        },
        {
         "metadata": "{}",
         "name": "number_of_cities",
         "type": "\"long\""
        },
        {
         "metadata": "{}",
         "name": "Rank",
         "type": "\"integer\""
        }
       ],
       "type": "table"
      }
     },
     "output_type": "display_data"
    }
   ],
   "source": [
    "display(data_df_final_2)"
   ]
  },
  {
   "cell_type": "markdown",
   "metadata": {
    "application/vnd.databricks.v1+cell": {
     "cellMetadata": {
      "byteLimit": 2048000,
      "rowLimit": 10000
     },
     "inputWidgets": {},
     "nuid": "144001cf-5148-4847-bd14-e6dba11ae2c2",
     "showTitle": false,
     "title": ""
    }
   },
   "source": [
    "3. What are the Top10 Popular Ratings as per the Counts?"
   ]
  },
  {
   "cell_type": "code",
   "execution_count": 0,
   "metadata": {
    "application/vnd.databricks.v1+cell": {
     "cellMetadata": {
      "byteLimit": 2048000,
      "rowLimit": 10000
     },
     "inputWidgets": {},
     "nuid": "20ff3c5d-4902-439c-9875-285e22fdeb01",
     "showTitle": false,
     "title": ""
    }
   },
   "outputs": [],
   "source": [
    "data_df_3 = (\n",
    "  df_zomato_restaurants_delta.groupBy(\"aggregate_rating\")\n",
    "                          .agg(countDistinct(\"restaurant_ID\").alias(\"number_of_cities\"))\n",
    ")\n",
    "\n",
    "data_df_final_3 = (\n",
    "  data_df_3.withColumn(\"Rank\", dense_rank().over(Window.orderBy(col(\"number_of_cities\").desc())))\n",
    "         .filter((col(\"Rank\") <= 10))\n",
    ")"
   ]
  },
  {
   "cell_type": "code",
   "execution_count": 0,
   "metadata": {
    "application/vnd.databricks.v1+cell": {
     "cellMetadata": {
      "byteLimit": 2048000,
      "rowLimit": 10000
     },
     "inputWidgets": {},
     "nuid": "4e5908c3-1206-4d47-a026-348834274311",
     "showTitle": false,
     "title": ""
    }
   },
   "outputs": [
    {
     "output_type": "display_data",
     "data": {
      "text/html": [
       "<style scoped>\n",
       "  .table-result-container {\n",
       "    max-height: 300px;\n",
       "    overflow: auto;\n",
       "  }\n",
       "  table, th, td {\n",
       "    border: 1px solid black;\n",
       "    border-collapse: collapse;\n",
       "  }\n",
       "  th, td {\n",
       "    padding: 5px;\n",
       "  }\n",
       "  th {\n",
       "    text-align: left;\n",
       "  }\n",
       "</style><div class='table-result-container'><table class='table-result'><thead style='background-color: white'><tr><th>aggregate_rating</th><th>number_of_cities</th><th>Rank</th></tr></thead><tbody><tr><td>0.0</td><td>2165</td><td>1</td></tr><tr><td>3.2</td><td>520</td><td>2</td></tr><tr><td>3.1</td><td>518</td><td>3</td></tr><tr><td>3.4</td><td>488</td><td>4</td></tr><tr><td>3.3</td><td>477</td><td>5</td></tr><tr><td>3.0</td><td>468</td><td>6</td></tr><tr><td>3.5</td><td>461</td><td>7</td></tr><tr><td>3.6</td><td>427</td><td>8</td></tr><tr><td>3.7</td><td>388</td><td>9</td></tr><tr><td>2.9</td><td>381</td><td>10</td></tr></tbody></table></div>"
      ]
     },
     "metadata": {
      "application/vnd.databricks.v1+output": {
       "addedWidgets": {},
       "aggData": [],
       "aggError": "",
       "aggOverflow": false,
       "aggSchema": [],
       "aggSeriesLimitReached": false,
       "aggType": "",
       "arguments": {},
       "columnCustomDisplayInfos": {},
       "data": [
        [
         "0.0",
         2165,
         1
        ],
        [
         "3.2",
         520,
         2
        ],
        [
         "3.1",
         518,
         3
        ],
        [
         "3.4",
         488,
         4
        ],
        [
         "3.3",
         477,
         5
        ],
        [
         "3.0",
         468,
         6
        ],
        [
         "3.5",
         461,
         7
        ],
        [
         "3.6",
         427,
         8
        ],
        [
         "3.7",
         388,
         9
        ],
        [
         "2.9",
         381,
         10
        ]
       ],
       "datasetInfos": [],
       "dbfsResultPath": null,
       "isJsonSchema": true,
       "metadata": {},
       "overflow": false,
       "plotOptions": {
        "customPlotOptions": {},
        "displayType": "table",
        "pivotAggregation": null,
        "pivotColumns": null,
        "xColumns": null,
        "yColumns": null
       },
       "removedWidgets": [],
       "schema": [
        {
         "metadata": "{}",
         "name": "aggregate_rating",
         "type": "\"string\""
        },
        {
         "metadata": "{}",
         "name": "number_of_cities",
         "type": "\"long\""
        },
        {
         "metadata": "{}",
         "name": "Rank",
         "type": "\"integer\""
        }
       ],
       "type": "table"
      }
     },
     "output_type": "display_data"
    }
   ],
   "source": [
    "display(data_df_final_3)"
   ]
  },
  {
   "cell_type": "markdown",
   "metadata": {
    "application/vnd.databricks.v1+cell": {
     "cellMetadata": {
      "byteLimit": 2048000,
      "rowLimit": 10000
     },
     "inputWidgets": {},
     "nuid": "00837783-5b23-42aa-8d57-d9c8a0261550",
     "showTitle": false,
     "title": ""
    }
   },
   "source": [
    "4. What are the Top20 Cuisines?"
   ]
  },
  {
   "cell_type": "code",
   "execution_count": 0,
   "metadata": {
    "application/vnd.databricks.v1+cell": {
     "cellMetadata": {
      "byteLimit": 2048000,
      "rowLimit": 10000
     },
     "inputWidgets": {},
     "nuid": "3ce522ec-5aa1-4a18-9266-0eabff43b1d7",
     "showTitle": false,
     "title": ""
    }
   },
   "outputs": [],
   "source": [
    "cuisines_df = df_zomato_restaurants_delta.select(upper(\"cuisines\").alias(\"cuisines\"))"
   ]
  },
  {
   "cell_type": "code",
   "execution_count": 0,
   "metadata": {
    "application/vnd.databricks.v1+cell": {
     "cellMetadata": {
      "byteLimit": 2048000,
      "rowLimit": 10000
     },
     "inputWidgets": {},
     "nuid": "8a021a21-b469-4922-b2e6-a4452f963245",
     "showTitle": false,
     "title": ""
    }
   },
   "outputs": [],
   "source": [
    "cuisines = cuisines_df.withColumn(\"list_of_cuisines\", split(col(\"cuisines\"), \",\"))"
   ]
  },
  {
   "cell_type": "code",
   "execution_count": 0,
   "metadata": {
    "application/vnd.databricks.v1+cell": {
     "cellMetadata": {
      "byteLimit": 2048000,
      "rowLimit": 10000
     },
     "inputWidgets": {},
     "nuid": "416cfd6a-0742-4b60-bf18-4fae2f42446e",
     "showTitle": false,
     "title": ""
    }
   },
   "outputs": [],
   "source": [
    "cuisines_list = cuisines.select(\"list_of_cuisines\").rdd.flatMap(lambda x: x).collect()"
   ]
  },
  {
   "cell_type": "code",
   "execution_count": 0,
   "metadata": {
    "application/vnd.databricks.v1+cell": {
     "cellMetadata": {
      "byteLimit": 2048000,
      "rowLimit": 10000
     },
     "inputWidgets": {},
     "nuid": "8a699b94-f7c5-4ebe-979f-2cc12f3f9ed4",
     "showTitle": false,
     "title": ""
    }
   },
   "outputs": [],
   "source": [
    "# whole_list = cuisines_df.select(collect_list(\"cuisines\")).collect()[0][0]"
   ]
  },
  {
   "cell_type": "code",
   "execution_count": 0,
   "metadata": {
    "application/vnd.databricks.v1+cell": {
     "cellMetadata": {
      "byteLimit": 2048000,
      "rowLimit": 10000
     },
     "inputWidgets": {},
     "nuid": "352af256-4f73-4e02-ac03-1005372cd0d0",
     "showTitle": false,
     "title": ""
    }
   },
   "outputs": [],
   "source": [
    "dict_cuisines = {}\n",
    "for x in cuisines_list:\n",
    "    for y in x:\n",
    "        if y in dict_cuisines:\n",
    "            dict_cuisines[y] += 1\n",
    "        else:\n",
    "            dict_cuisines[y] = 1"
   ]
  },
  {
   "cell_type": "code",
   "execution_count": 0,
   "metadata": {
    "application/vnd.databricks.v1+cell": {
     "cellMetadata": {
      "byteLimit": 2048000,
      "rowLimit": 10000
     },
     "inputWidgets": {},
     "nuid": "3a195b73-d796-456c-9544-defe1a5786d8",
     "showTitle": false,
     "title": ""
    }
   },
   "outputs": [],
   "source": [
    "import pandas as pd"
   ]
  },
  {
   "cell_type": "code",
   "execution_count": 0,
   "metadata": {
    "application/vnd.databricks.v1+cell": {
     "cellMetadata": {
      "byteLimit": 2048000,
      "rowLimit": 10000
     },
     "inputWidgets": {},
     "nuid": "bf777a7e-19de-431f-a11f-8c036e73622d",
     "showTitle": false,
     "title": ""
    }
   },
   "outputs": [],
   "source": [
    "keys = list(dict_cuisines.keys())\n",
    "values = list(dict_cuisines.values())\n",
    "\n",
    "# Create DataFrame\n",
    "Cuisines_df_pd = pd.DataFrame({'Cuisines': keys, 'Count': values})"
   ]
  },
  {
   "cell_type": "code",
   "execution_count": 0,
   "metadata": {
    "application/vnd.databricks.v1+cell": {
     "cellMetadata": {
      "byteLimit": 2048000,
      "rowLimit": 10000
     },
     "inputWidgets": {},
     "nuid": "9592ba99-bc4d-47d1-aa51-d6504e60b506",
     "showTitle": false,
     "title": ""
    }
   },
   "outputs": [],
   "source": [
    "cuisines_df_new = spark.createDataFrame(Cuisines_df_pd)"
   ]
  },
  {
   "cell_type": "code",
   "execution_count": 0,
   "metadata": {
    "application/vnd.databricks.v1+cell": {
     "cellMetadata": {
      "byteLimit": 2048000,
      "rowLimit": 10000
     },
     "inputWidgets": {},
     "nuid": "0cedc917-76cb-4516-aa59-9f332bb331bd",
     "showTitle": false,
     "title": ""
    }
   },
   "outputs": [],
   "source": [
    "cuisines_top_20 = (\n",
    "    cuisines_df_new.groupBy(\"Cuisines\")\n",
    "                   .agg(sum(col(\"Count\")).alias(\"Count\"))\n",
    "                   .withColumn(\"Rank\", dense_rank().over(Window.orderBy(col(\"Count\").desc())))\n",
    "                   .filter((col(\"Rank\") <= 20))\n",
    "                   \n",
    ")"
   ]
  },
  {
   "cell_type": "code",
   "execution_count": 0,
   "metadata": {
    "application/vnd.databricks.v1+cell": {
     "cellMetadata": {
      "byteLimit": 2048000,
      "rowLimit": 10000
     },
     "inputWidgets": {},
     "nuid": "53b7502a-b893-4dd0-9aec-6ada3784ca50",
     "showTitle": false,
     "title": ""
    }
   },
   "outputs": [
    {
     "output_type": "display_data",
     "data": {
      "text/html": [
       "<style scoped>\n",
       "  .table-result-container {\n",
       "    max-height: 300px;\n",
       "    overflow: auto;\n",
       "  }\n",
       "  table, th, td {\n",
       "    border: 1px solid black;\n",
       "    border-collapse: collapse;\n",
       "  }\n",
       "  th, td {\n",
       "    padding: 5px;\n",
       "  }\n",
       "  th {\n",
       "    text-align: left;\n",
       "  }\n",
       "</style><div class='table-result-container'><table class='table-result'><thead style='background-color: white'><tr><th>Cuisines</th><th>Count</th><th>Rank</th></tr></thead><tbody><tr><td>NORTH INDIAN</td><td>2995</td><td>1</td></tr><tr><td> CHINESE</td><td>1875</td><td>2</td></tr><tr><td> FAST FOOD</td><td>1314</td><td>3</td></tr><tr><td> NORTH INDIAN</td><td>973</td><td>4</td></tr><tr><td>CHINESE</td><td>842</td><td>5</td></tr><tr><td> MUGHLAI</td><td>780</td><td>6</td></tr><tr><td>FAST FOOD</td><td>671</td><td>7</td></tr><tr><td>BAKERY</td><td>621</td><td>8</td></tr><tr><td>CAFE</td><td>618</td><td>9</td></tr><tr><td> ITALIAN</td><td>521</td><td>10</td></tr><tr><td> CONTINENTAL</td><td>503</td><td>11</td></tr><tr><td> DESSERTS</td><td>496</td><td>12</td></tr><tr><td> SOUTH INDIAN</td><td>374</td><td>13</td></tr><tr><td> STREET FOOD</td><td>326</td><td>14</td></tr><tr><td>SOUTH INDIAN</td><td>264</td><td>15</td></tr><tr><td>MITHAI</td><td>246</td><td>16</td></tr><tr><td>CONTINENTAL</td><td>236</td><td>17</td></tr><tr><td>STREET FOOD</td><td>236</td><td>17</td></tr><tr><td>PIZZA</td><td>218</td><td>18</td></tr><tr><td>MUGHLAI</td><td>217</td><td>19</td></tr><tr><td>ITALIAN</td><td>210</td><td>20</td></tr></tbody></table></div>"
      ]
     },
     "metadata": {
      "application/vnd.databricks.v1+output": {
       "addedWidgets": {},
       "aggData": [],
       "aggError": "",
       "aggOverflow": false,
       "aggSchema": [],
       "aggSeriesLimitReached": false,
       "aggType": "",
       "arguments": {},
       "columnCustomDisplayInfos": {},
       "data": [
        [
         "NORTH INDIAN",
         2995,
         1
        ],
        [
         " CHINESE",
         1875,
         2
        ],
        [
         " FAST FOOD",
         1314,
         3
        ],
        [
         " NORTH INDIAN",
         973,
         4
        ],
        [
         "CHINESE",
         842,
         5
        ],
        [
         " MUGHLAI",
         780,
         6
        ],
        [
         "FAST FOOD",
         671,
         7
        ],
        [
         "BAKERY",
         621,
         8
        ],
        [
         "CAFE",
         618,
         9
        ],
        [
         " ITALIAN",
         521,
         10
        ],
        [
         " CONTINENTAL",
         503,
         11
        ],
        [
         " DESSERTS",
         496,
         12
        ],
        [
         " SOUTH INDIAN",
         374,
         13
        ],
        [
         " STREET FOOD",
         326,
         14
        ],
        [
         "SOUTH INDIAN",
         264,
         15
        ],
        [
         "MITHAI",
         246,
         16
        ],
        [
         "CONTINENTAL",
         236,
         17
        ],
        [
         "STREET FOOD",
         236,
         17
        ],
        [
         "PIZZA",
         218,
         18
        ],
        [
         "MUGHLAI",
         217,
         19
        ],
        [
         "ITALIAN",
         210,
         20
        ]
       ],
       "datasetInfos": [],
       "dbfsResultPath": null,
       "isJsonSchema": true,
       "metadata": {},
       "overflow": false,
       "plotOptions": {
        "customPlotOptions": {},
        "displayType": "table",
        "pivotAggregation": null,
        "pivotColumns": null,
        "xColumns": null,
        "yColumns": null
       },
       "removedWidgets": [],
       "schema": [
        {
         "metadata": "{}",
         "name": "Cuisines",
         "type": "\"string\""
        },
        {
         "metadata": "{}",
         "name": "Count",
         "type": "\"long\""
        },
        {
         "metadata": "{}",
         "name": "Rank",
         "type": "\"integer\""
        }
       ],
       "type": "table"
      }
     },
     "output_type": "display_data"
    }
   ],
   "source": [
    "display(cuisines_top_20)"
   ]
  },
  {
   "cell_type": "code",
   "execution_count": 0,
   "metadata": {
    "application/vnd.databricks.v1+cell": {
     "cellMetadata": {
      "byteLimit": 2048000,
      "rowLimit": 10000
     },
     "inputWidgets": {},
     "nuid": "b54cc335-da57-4ca2-8fd2-f8dbcd44e46a",
     "showTitle": false,
     "title": ""
    }
   },
   "outputs": [],
   "source": []
  }
 ],
 "metadata": {
  "application/vnd.databricks.v1+notebook": {
   "dashboards": [],
   "language": "python",
   "notebookMetadata": {
    "mostRecentlyExecutedCommandWithImplicitDF": {
     "commandId": 1806468089549937,
     "dataframes": [
      "_sqldf"
     ]
    },
    "pythonIndentUnit": 4
   },
   "notebookName": "zomato_restaurants_etl_github",
   "widgets": {}
  }
 },
 "nbformat": 4,
 "nbformat_minor": 0
}
